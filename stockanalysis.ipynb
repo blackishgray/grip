{
 "cells": [
  {
   "cell_type": "code",
   "execution_count": 1,
   "metadata": {},
   "outputs": [],
   "source": [
    "import numpy as np \n",
    "import pandas as pd \n",
    "import warnings\n",
    "\n",
    "warnings.simplefilter(action='ignore')"
   ]
  },
  {
   "cell_type": "code",
   "execution_count": 2,
   "metadata": {},
   "outputs": [
    {
     "data": {
      "text/html": [
       "<div>\n",
       "<style scoped>\n",
       "    .dataframe tbody tr th:only-of-type {\n",
       "        vertical-align: middle;\n",
       "    }\n",
       "\n",
       "    .dataframe tbody tr th {\n",
       "        vertical-align: top;\n",
       "    }\n",
       "\n",
       "    .dataframe thead th {\n",
       "        text-align: right;\n",
       "    }\n",
       "</style>\n",
       "<table border=\"1\" class=\"dataframe\">\n",
       "  <thead>\n",
       "    <tr style=\"text-align: right;\">\n",
       "      <th></th>\n",
       "      <th>Date</th>\n",
       "      <th>Open</th>\n",
       "      <th>High</th>\n",
       "      <th>Low</th>\n",
       "      <th>Close</th>\n",
       "    </tr>\n",
       "  </thead>\n",
       "  <tbody>\n",
       "    <tr>\n",
       "      <th>1-June-2011</th>\n",
       "      <td>18527.12</td>\n",
       "      <td>18636.12</td>\n",
       "      <td>18514.66</td>\n",
       "      <td>18608.81</td>\n",
       "      <td>NaN</td>\n",
       "    </tr>\n",
       "    <tr>\n",
       "      <th>2-June-2011</th>\n",
       "      <td>18425.85</td>\n",
       "      <td>18540.67</td>\n",
       "      <td>18390.57</td>\n",
       "      <td>18494.18</td>\n",
       "      <td>NaN</td>\n",
       "    </tr>\n",
       "    <tr>\n",
       "      <th>3-June-2011</th>\n",
       "      <td>18554.40</td>\n",
       "      <td>18672.65</td>\n",
       "      <td>18345.85</td>\n",
       "      <td>18376.48</td>\n",
       "      <td>NaN</td>\n",
       "    </tr>\n",
       "    <tr>\n",
       "      <th>6-June-2011</th>\n",
       "      <td>18344.27</td>\n",
       "      <td>18458.63</td>\n",
       "      <td>18258.42</td>\n",
       "      <td>18420.11</td>\n",
       "      <td>NaN</td>\n",
       "    </tr>\n",
       "    <tr>\n",
       "      <th>7-June-2011</th>\n",
       "      <td>18355.30</td>\n",
       "      <td>18545.95</td>\n",
       "      <td>18351.24</td>\n",
       "      <td>18495.62</td>\n",
       "      <td>NaN</td>\n",
       "    </tr>\n",
       "  </tbody>\n",
       "</table>\n",
       "</div>"
      ],
      "text/plain": [
       "                 Date      Open      High       Low  Close\n",
       "1-June-2011  18527.12  18636.12  18514.66  18608.81    NaN\n",
       "2-June-2011  18425.85  18540.67  18390.57  18494.18    NaN\n",
       "3-June-2011  18554.40  18672.65  18345.85  18376.48    NaN\n",
       "6-June-2011  18344.27  18458.63  18258.42  18420.11    NaN\n",
       "7-June-2011  18355.30  18545.95  18351.24  18495.62    NaN"
      ]
     },
     "execution_count": 2,
     "metadata": {},
     "output_type": "execute_result"
    }
   ],
   "source": [
    "df = pd.read_csv(r'C:\\Users\\Ratnadeep Gawade\\Desktop\\python\\Machine Learning\\Data Set\\Projects\\CSVForDate.csv')\n",
    "df.head()"
   ]
  },
  {
   "cell_type": "code",
   "execution_count": null,
   "metadata": {},
   "outputs": [],
   "source": []
  }
 ],
 "metadata": {
  "kernelspec": {
   "display_name": "Python 3",
   "language": "python",
   "name": "python3"
  },
  "language_info": {
   "codemirror_mode": {
    "name": "ipython",
    "version": 3
   },
   "file_extension": ".py",
   "mimetype": "text/x-python",
   "name": "python",
   "nbconvert_exporter": "python",
   "pygments_lexer": "ipython3",
   "version": "3.8.5"
  }
 },
 "nbformat": 4,
 "nbformat_minor": 4
}
